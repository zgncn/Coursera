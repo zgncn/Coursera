{
 "cells": [
  {
   "cell_type": "markdown",
   "metadata": {},
   "source": [
    "<center>\n",
    "    <img src=\"https://cf-courses-data.s3.us.cloud-object-storage.appdomain.cloud/IBMDeveloperSkillsNetwork-DS0105EN-SkillsNetwork/labs/Module2/images/SN_web_lightmode.png\" width=\"300\" alt=\"cognitiveclass.ai logo\">\n",
    "</center>\n"
   ]
  },
  {
   "cell_type": "markdown",
   "metadata": {},
   "source": [
    "#### Add your code below following the instructions given in the course\n"
   ]
  },
  {
   "cell_type": "markdown",
   "metadata": {},
   "source": [
    "Exercise 2 - Create a markdown cell with the title of the notebook. (1 pt)\n",
    "# Jupyter_Notebook.ipynb"
   ]
  },
  {
   "cell_type": "markdown",
   "metadata": {},
   "source": [
    "Exercise 3 - Create a markdown cell for an introduction. (1 pt)\n",
    "## Introduction\n",
    "something bla bla\n"
   ]
  },
  {
   "cell_type": "markdown",
   "metadata": {},
   "source": [
    "Exercise 4 - Create a markdown cell to list data science languages.\n",
    "# Data Science Language\n",
    "* Python\n",
    "* R\n",
    "* Sql"
   ]
  },
  {
   "cell_type": "markdown",
   "metadata": {},
   "source": [
    "Exercise 5 - Create a markdown cell to list data science libraries.\n",
    "# Data Science Libraries\n",
    "* Pandas\n",
    "* Numpy\n",
    "* Matplotlib\n",
    "* Seaborn"
   ]
  },
  {
   "cell_type": "markdown",
   "metadata": {},
   "source": [
    "Exercise 6 - Create a markdown cell with a table of Data Science tools.\n",
    "# Data Science Tools\n",
    "* Excel\n",
    "* Jupyter Notebook\n",
    "* Apache Spark\n",
    "* MySql\n",
    "* Sas"
   ]
  },
  {
   "cell_type": "markdown",
   "metadata": {},
   "source": [
    "Exercise 7 - Create a markdown cell introducing arithmetic expression examples. (1 pt)\n",
    "# Arithmetic Expression Examples\n",
    "* 2+2=4\n",
    "* 2-2=0\n",
    "* 2/2=1.0\n",
    "* 2*2=4"
   ]
  },
  {
   "cell_type": "code",
   "execution_count": 2,
   "metadata": {
    "tags": []
   },
   "outputs": [
    {
     "name": "stdout",
     "output_type": "stream",
     "text": [
      "4\n",
      "0\n",
      "64\n",
      "1.0\n"
     ]
    }
   ],
   "source": [
    "# Exercise 8 - Create a code cell to multiply and add numbers.\n",
    "print(2+2)\n",
    "print(4-4)\n",
    "print(8*8)\n",
    "print(9/9)\n",
    "\n"
   ]
  },
  {
   "cell_type": "code",
   "execution_count": 3,
   "metadata": {
    "tags": []
   },
   "outputs": [],
   "source": [
    "#Exercise 9 - Create a code cell to convert minutes to hours. (2 pts)\n",
    "def convert(minutes):\n",
    "    return minutes/60"
   ]
  },
  {
   "cell_type": "code",
   "execution_count": 5,
   "metadata": {
    "tags": []
   },
   "outputs": [
    {
     "data": {
      "text/plain": [
       "2.033333333333333"
      ]
     },
     "execution_count": 5,
     "metadata": {},
     "output_type": "execute_result"
    }
   ],
   "source": [
    "convert(122)"
   ]
  },
  {
   "cell_type": "markdown",
   "metadata": {},
   "source": [
    "Exercise 10 -Insert a markdown cell to list Objectives. (3 pts)\n",
    "# List Objectives \n",
    "Collection of Items:\n",
    "Lists are used to store a collection of items, whether they are numbers, strings, objects, or any other data type. This allows you to organize and work with related data efficiently.\n",
    "\n",
    "Sequential Storage:\n",
    "Lists maintain the order of elements, allowing you to access and manipulate items based on their position (index) within the list.\n",
    "\n",
    "Flexibility and Mutability:\n",
    "Lists are mutable, meaning you can modify the elements they contain. This makes it easy to add, remove, or update elements in the list.\n",
    "\n",
    "Dynamic Sizing:\n",
    "Lists can grow or shrink dynamically, enabling you to adjust the size of the collection based on your needs during runtime.\n",
    "\n",
    "Iteration and Loops:\n",
    "Lists can be easily iterated over using loops, making it convenient to perform operations on each item in the list.\n",
    "\n",
    "Efficient Access to Elements:\n",
    "Accessing elements in a list by index is efficient, providing quick access to any item in the list.\n",
    "\n",
    "Common Data Structures:\n",
    "Lists are often used as building blocks for more complex data structures, such as stacks, queues, graphs, and trees.\n",
    "\n",
    "Data Manipulation and Processing:\n",
    "Lists are extensively used for data manipulation tasks, including filtering, transforming, sorting, and analyzing data.\n",
    "\n",
    "Heterogeneous Data:\n",
    "Lists can contain elements of different data types, allowing you to create a mixed collection of data.\n",
    "\n",
    "Passing and Returning Multiple Values:\n",
    "Lists are commonly used to pass multiple values as a single argument to functions or return multiple values from functions.\n",
    "\n",
    "Input and Output:\n",
    "Lists are often used to store and process input data or to format and present output in a structured manner."
   ]
  },
  {
   "cell_type": "markdown",
   "metadata": {},
   "source": [
    "Exercise 11 - Create a markdown cell to indicate the Author’s name. (2 pts)\n",
    "# Author's Name \n",
    "Alex"
   ]
  },
  {
   "cell_type": "code",
   "execution_count": null,
   "metadata": {},
   "outputs": [],
   "source": []
  }
 ],
 "metadata": {
  "kernelspec": {
   "display_name": "Python",
   "language": "python",
   "name": "conda-env-python-py"
  },
  "language_info": {
   "codemirror_mode": {
    "name": "ipython",
    "version": 3
   },
   "file_extension": ".py",
   "mimetype": "text/x-python",
   "name": "python",
   "nbconvert_exporter": "python",
   "pygments_lexer": "ipython3",
   "version": "3.7.12"
  }
 },
 "nbformat": 4,
 "nbformat_minor": 4
}
